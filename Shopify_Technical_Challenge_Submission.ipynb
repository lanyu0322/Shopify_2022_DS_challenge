{
  "nbformat": 4,
  "nbformat_minor": 0,
  "metadata": {
    "colab": {
      "name": "Shopify_Technical_Challenge_Submission.ipynb",
      "provenance": [],
      "mount_file_id": "1zAZQxTG4NUqvtd625tyNQgXcrZjxQjDh",
      "authorship_tag": "ABX9TyOFBHUn/1qRxjBDmyevHrXw",
      "include_colab_link": true
    },
    "kernelspec": {
      "name": "python3",
      "display_name": "Python 3"
    }
  },
  "cells": [
    {
      "cell_type": "markdown",
      "metadata": {
        "id": "view-in-github",
        "colab_type": "text"
      },
      "source": [
        "<a href=\"https://colab.research.google.com/github/lanyu0322/Shopify_2022_DS_challenge/blob/main/Shopify_Technical_Challenge_Submission.ipynb\" target=\"_parent\"><img src=\"https://colab.research.google.com/assets/colab-badge.svg\" alt=\"Open In Colab\"/></a>"
      ]
    },
    {
      "cell_type": "markdown",
      "source": [
        "# Shopify Fall 2022 Data Science Intern Challenge\n",
        "\n",
        "***Lan Yu***\n",
        "\n",
        "***05/19/2022***\n"
      ],
      "metadata": {
        "id": "4xiU_Fpno0FN"
      }
    },
    {
      "cell_type": "code",
      "source": [
        "cd /content/drive/Shareddrives/Shopify_2022_ds_intern/"
      ],
      "metadata": {
        "colab": {
          "base_uri": "https://localhost:8080/"
        },
        "id": "GQdxGCGsId7e",
        "outputId": "264fc006-4413-4834-8ff7-b8dd3b0a9d1e"
      },
      "execution_count": 72,
      "outputs": [
        {
          "output_type": "stream",
          "name": "stdout",
          "text": [
            "/content/drive/Shareddrives/Shopify_2022_ds_intern\n"
          ]
        }
      ]
    },
    {
      "cell_type": "code",
      "source": [
        "import numpy as np\n",
        "import pandas as pd\n",
        "import matplotlib.pyplot as plt\n"
      ],
      "metadata": {
        "id": "QYD-mpS28Fo8"
      },
      "execution_count": 18,
      "outputs": []
    },
    {
      "cell_type": "markdown",
      "source": [
        "# Question 1 \n"
      ],
      "metadata": {
        "id": "DJUM_CZ-H9uK"
      }
    },
    {
      "cell_type": "markdown",
      "source": [
        "Let's see the data first"
      ],
      "metadata": {
        "id": "dq-zylXuIIE5"
      }
    },
    {
      "cell_type": "code",
      "source": [
        "# -- load shoe data\n",
        "data = pd.read_excel(\"2019 Winter Data Science Intern Challenge Data Set.xlsx\")"
      ],
      "metadata": {
        "id": "Y7mSl0JM8QI_"
      },
      "execution_count": 73,
      "outputs": []
    },
    {
      "cell_type": "code",
      "source": [
        "# -- let's take a look of our data\n",
        "print(data.shape)\n",
        "print(data.columns)\n",
        "data.head(5)"
      ],
      "metadata": {
        "colab": {
          "base_uri": "https://localhost:8080/",
          "height": 278
        },
        "id": "HZoT52E69Etu",
        "outputId": "37c11474-d63e-40ff-bc03-1ce365bda2f0"
      },
      "execution_count": 78,
      "outputs": [
        {
          "output_type": "stream",
          "name": "stdout",
          "text": [
            "(5000, 7)\n",
            "Index(['order_id', 'shop_id', 'user_id', 'order_amount', 'total_items',\n",
            "       'payment_method', 'created_at'],\n",
            "      dtype='object')\n"
          ]
        },
        {
          "output_type": "execute_result",
          "data": {
            "text/plain": [
              "   order_id  shop_id  user_id  order_amount  total_items payment_method  \\\n",
              "0       1.0     53.0    746.0         224.0          2.0           cash   \n",
              "1       2.0     92.0    925.0          90.0          1.0           cash   \n",
              "2       3.0     44.0    861.0         144.0          1.0           cash   \n",
              "3       4.0     18.0    935.0         156.0          1.0    credit_card   \n",
              "4       5.0     18.0    883.0         156.0          1.0    credit_card   \n",
              "\n",
              "               created_at  \n",
              "0 2017-03-13 12:36:56.190  \n",
              "1 2017-03-03 17:38:51.999  \n",
              "2 2017-03-14 04:23:55.595  \n",
              "3 2017-03-26 12:43:36.649  \n",
              "4 2017-03-01 04:35:10.773  "
            ],
            "text/html": [
              "\n",
              "  <div id=\"df-7278a11e-d93d-438f-8110-cab4e9e21b31\">\n",
              "    <div class=\"colab-df-container\">\n",
              "      <div>\n",
              "<style scoped>\n",
              "    .dataframe tbody tr th:only-of-type {\n",
              "        vertical-align: middle;\n",
              "    }\n",
              "\n",
              "    .dataframe tbody tr th {\n",
              "        vertical-align: top;\n",
              "    }\n",
              "\n",
              "    .dataframe thead th {\n",
              "        text-align: right;\n",
              "    }\n",
              "</style>\n",
              "<table border=\"1\" class=\"dataframe\">\n",
              "  <thead>\n",
              "    <tr style=\"text-align: right;\">\n",
              "      <th></th>\n",
              "      <th>order_id</th>\n",
              "      <th>shop_id</th>\n",
              "      <th>user_id</th>\n",
              "      <th>order_amount</th>\n",
              "      <th>total_items</th>\n",
              "      <th>payment_method</th>\n",
              "      <th>created_at</th>\n",
              "    </tr>\n",
              "  </thead>\n",
              "  <tbody>\n",
              "    <tr>\n",
              "      <th>0</th>\n",
              "      <td>1.0</td>\n",
              "      <td>53.0</td>\n",
              "      <td>746.0</td>\n",
              "      <td>224.0</td>\n",
              "      <td>2.0</td>\n",
              "      <td>cash</td>\n",
              "      <td>2017-03-13 12:36:56.190</td>\n",
              "    </tr>\n",
              "    <tr>\n",
              "      <th>1</th>\n",
              "      <td>2.0</td>\n",
              "      <td>92.0</td>\n",
              "      <td>925.0</td>\n",
              "      <td>90.0</td>\n",
              "      <td>1.0</td>\n",
              "      <td>cash</td>\n",
              "      <td>2017-03-03 17:38:51.999</td>\n",
              "    </tr>\n",
              "    <tr>\n",
              "      <th>2</th>\n",
              "      <td>3.0</td>\n",
              "      <td>44.0</td>\n",
              "      <td>861.0</td>\n",
              "      <td>144.0</td>\n",
              "      <td>1.0</td>\n",
              "      <td>cash</td>\n",
              "      <td>2017-03-14 04:23:55.595</td>\n",
              "    </tr>\n",
              "    <tr>\n",
              "      <th>3</th>\n",
              "      <td>4.0</td>\n",
              "      <td>18.0</td>\n",
              "      <td>935.0</td>\n",
              "      <td>156.0</td>\n",
              "      <td>1.0</td>\n",
              "      <td>credit_card</td>\n",
              "      <td>2017-03-26 12:43:36.649</td>\n",
              "    </tr>\n",
              "    <tr>\n",
              "      <th>4</th>\n",
              "      <td>5.0</td>\n",
              "      <td>18.0</td>\n",
              "      <td>883.0</td>\n",
              "      <td>156.0</td>\n",
              "      <td>1.0</td>\n",
              "      <td>credit_card</td>\n",
              "      <td>2017-03-01 04:35:10.773</td>\n",
              "    </tr>\n",
              "  </tbody>\n",
              "</table>\n",
              "</div>\n",
              "      <button class=\"colab-df-convert\" onclick=\"convertToInteractive('df-7278a11e-d93d-438f-8110-cab4e9e21b31')\"\n",
              "              title=\"Convert this dataframe to an interactive table.\"\n",
              "              style=\"display:none;\">\n",
              "        \n",
              "  <svg xmlns=\"http://www.w3.org/2000/svg\" height=\"24px\"viewBox=\"0 0 24 24\"\n",
              "       width=\"24px\">\n",
              "    <path d=\"M0 0h24v24H0V0z\" fill=\"none\"/>\n",
              "    <path d=\"M18.56 5.44l.94 2.06.94-2.06 2.06-.94-2.06-.94-.94-2.06-.94 2.06-2.06.94zm-11 1L8.5 8.5l.94-2.06 2.06-.94-2.06-.94L8.5 2.5l-.94 2.06-2.06.94zm10 10l.94 2.06.94-2.06 2.06-.94-2.06-.94-.94-2.06-.94 2.06-2.06.94z\"/><path d=\"M17.41 7.96l-1.37-1.37c-.4-.4-.92-.59-1.43-.59-.52 0-1.04.2-1.43.59L10.3 9.45l-7.72 7.72c-.78.78-.78 2.05 0 2.83L4 21.41c.39.39.9.59 1.41.59.51 0 1.02-.2 1.41-.59l7.78-7.78 2.81-2.81c.8-.78.8-2.07 0-2.86zM5.41 20L4 18.59l7.72-7.72 1.47 1.35L5.41 20z\"/>\n",
              "  </svg>\n",
              "      </button>\n",
              "      \n",
              "  <style>\n",
              "    .colab-df-container {\n",
              "      display:flex;\n",
              "      flex-wrap:wrap;\n",
              "      gap: 12px;\n",
              "    }\n",
              "\n",
              "    .colab-df-convert {\n",
              "      background-color: #E8F0FE;\n",
              "      border: none;\n",
              "      border-radius: 50%;\n",
              "      cursor: pointer;\n",
              "      display: none;\n",
              "      fill: #1967D2;\n",
              "      height: 32px;\n",
              "      padding: 0 0 0 0;\n",
              "      width: 32px;\n",
              "    }\n",
              "\n",
              "    .colab-df-convert:hover {\n",
              "      background-color: #E2EBFA;\n",
              "      box-shadow: 0px 1px 2px rgba(60, 64, 67, 0.3), 0px 1px 3px 1px rgba(60, 64, 67, 0.15);\n",
              "      fill: #174EA6;\n",
              "    }\n",
              "\n",
              "    [theme=dark] .colab-df-convert {\n",
              "      background-color: #3B4455;\n",
              "      fill: #D2E3FC;\n",
              "    }\n",
              "\n",
              "    [theme=dark] .colab-df-convert:hover {\n",
              "      background-color: #434B5C;\n",
              "      box-shadow: 0px 1px 3px 1px rgba(0, 0, 0, 0.15);\n",
              "      filter: drop-shadow(0px 1px 2px rgba(0, 0, 0, 0.3));\n",
              "      fill: #FFFFFF;\n",
              "    }\n",
              "  </style>\n",
              "\n",
              "      <script>\n",
              "        const buttonEl =\n",
              "          document.querySelector('#df-7278a11e-d93d-438f-8110-cab4e9e21b31 button.colab-df-convert');\n",
              "        buttonEl.style.display =\n",
              "          google.colab.kernel.accessAllowed ? 'block' : 'none';\n",
              "\n",
              "        async function convertToInteractive(key) {\n",
              "          const element = document.querySelector('#df-7278a11e-d93d-438f-8110-cab4e9e21b31');\n",
              "          const dataTable =\n",
              "            await google.colab.kernel.invokeFunction('convertToInteractive',\n",
              "                                                     [key], {});\n",
              "          if (!dataTable) return;\n",
              "\n",
              "          const docLinkHtml = 'Like what you see? Visit the ' +\n",
              "            '<a target=\"_blank\" href=https://colab.research.google.com/notebooks/data_table.ipynb>data table notebook</a>'\n",
              "            + ' to learn more about interactive tables.';\n",
              "          element.innerHTML = '';\n",
              "          dataTable['output_type'] = 'display_data';\n",
              "          await google.colab.output.renderOutput(dataTable, element);\n",
              "          const docLink = document.createElement('div');\n",
              "          docLink.innerHTML = docLinkHtml;\n",
              "          element.appendChild(docLink);\n",
              "        }\n",
              "      </script>\n",
              "    </div>\n",
              "  </div>\n",
              "  "
            ]
          },
          "metadata": {},
          "execution_count": 78
        }
      ]
    },
    {
      "cell_type": "code",
      "source": [
        "# -- check whetehr there is a nan or a duplicate in our shoe data\n",
        "nan = data.isnull().values.any()*1\n",
        "dup = sum(data.duplicated())\n",
        "print(\"The number of dunplicates is:{0:4d}\".format(dup))\n",
        "print(\"The number of dunplicates is:{0:4d}\".format(nan) )\n"
      ],
      "metadata": {
        "colab": {
          "base_uri": "https://localhost:8080/"
        },
        "id": "rm63AQgqAiQ_",
        "outputId": "8e0d4fc8-9e3d-4bb0-e090-3d13a767bee5"
      },
      "execution_count": 115,
      "outputs": [
        {
          "output_type": "stream",
          "name": "stdout",
          "text": [
            "The number of dunplicates is:   0\n",
            "The number of dunplicates is:   0\n"
          ]
        }
      ]
    },
    {
      "cell_type": "code",
      "source": [
        "# -- let's do summary statistics for every variable.\n",
        "round(data.describe(), 2)"
      ],
      "metadata": {
        "colab": {
          "base_uri": "https://localhost:8080/",
          "height": 300
        },
        "id": "5gne0hEl9Qje",
        "outputId": "2a9a249f-3d26-4498-b10b-646017358f18"
      },
      "execution_count": 129,
      "outputs": [
        {
          "output_type": "execute_result",
          "data": {
            "text/plain": [
              "       order_id  shop_id  user_id  order_amount  total_items\n",
              "count   5000.00  5000.00  5000.00       5000.00      5000.00\n",
              "mean    2500.50    50.08   849.09       3145.13         8.79\n",
              "std     1443.52    29.01    87.80      41282.54       116.32\n",
              "min        1.00     1.00   607.00         90.00         1.00\n",
              "25%     1250.75    24.00   775.00        163.00         1.00\n",
              "50%     2500.50    50.00   849.00        284.00         2.00\n",
              "75%     3750.25    75.00   925.00        390.00         3.00\n",
              "max     5000.00   100.00   999.00     704000.00      2000.00"
            ],
            "text/html": [
              "\n",
              "  <div id=\"df-b4c2cbab-4ed9-47d9-bcc3-c72a23d24fb0\">\n",
              "    <div class=\"colab-df-container\">\n",
              "      <div>\n",
              "<style scoped>\n",
              "    .dataframe tbody tr th:only-of-type {\n",
              "        vertical-align: middle;\n",
              "    }\n",
              "\n",
              "    .dataframe tbody tr th {\n",
              "        vertical-align: top;\n",
              "    }\n",
              "\n",
              "    .dataframe thead th {\n",
              "        text-align: right;\n",
              "    }\n",
              "</style>\n",
              "<table border=\"1\" class=\"dataframe\">\n",
              "  <thead>\n",
              "    <tr style=\"text-align: right;\">\n",
              "      <th></th>\n",
              "      <th>order_id</th>\n",
              "      <th>shop_id</th>\n",
              "      <th>user_id</th>\n",
              "      <th>order_amount</th>\n",
              "      <th>total_items</th>\n",
              "    </tr>\n",
              "  </thead>\n",
              "  <tbody>\n",
              "    <tr>\n",
              "      <th>count</th>\n",
              "      <td>5000.00</td>\n",
              "      <td>5000.00</td>\n",
              "      <td>5000.00</td>\n",
              "      <td>5000.00</td>\n",
              "      <td>5000.00</td>\n",
              "    </tr>\n",
              "    <tr>\n",
              "      <th>mean</th>\n",
              "      <td>2500.50</td>\n",
              "      <td>50.08</td>\n",
              "      <td>849.09</td>\n",
              "      <td>3145.13</td>\n",
              "      <td>8.79</td>\n",
              "    </tr>\n",
              "    <tr>\n",
              "      <th>std</th>\n",
              "      <td>1443.52</td>\n",
              "      <td>29.01</td>\n",
              "      <td>87.80</td>\n",
              "      <td>41282.54</td>\n",
              "      <td>116.32</td>\n",
              "    </tr>\n",
              "    <tr>\n",
              "      <th>min</th>\n",
              "      <td>1.00</td>\n",
              "      <td>1.00</td>\n",
              "      <td>607.00</td>\n",
              "      <td>90.00</td>\n",
              "      <td>1.00</td>\n",
              "    </tr>\n",
              "    <tr>\n",
              "      <th>25%</th>\n",
              "      <td>1250.75</td>\n",
              "      <td>24.00</td>\n",
              "      <td>775.00</td>\n",
              "      <td>163.00</td>\n",
              "      <td>1.00</td>\n",
              "    </tr>\n",
              "    <tr>\n",
              "      <th>50%</th>\n",
              "      <td>2500.50</td>\n",
              "      <td>50.00</td>\n",
              "      <td>849.00</td>\n",
              "      <td>284.00</td>\n",
              "      <td>2.00</td>\n",
              "    </tr>\n",
              "    <tr>\n",
              "      <th>75%</th>\n",
              "      <td>3750.25</td>\n",
              "      <td>75.00</td>\n",
              "      <td>925.00</td>\n",
              "      <td>390.00</td>\n",
              "      <td>3.00</td>\n",
              "    </tr>\n",
              "    <tr>\n",
              "      <th>max</th>\n",
              "      <td>5000.00</td>\n",
              "      <td>100.00</td>\n",
              "      <td>999.00</td>\n",
              "      <td>704000.00</td>\n",
              "      <td>2000.00</td>\n",
              "    </tr>\n",
              "  </tbody>\n",
              "</table>\n",
              "</div>\n",
              "      <button class=\"colab-df-convert\" onclick=\"convertToInteractive('df-b4c2cbab-4ed9-47d9-bcc3-c72a23d24fb0')\"\n",
              "              title=\"Convert this dataframe to an interactive table.\"\n",
              "              style=\"display:none;\">\n",
              "        \n",
              "  <svg xmlns=\"http://www.w3.org/2000/svg\" height=\"24px\"viewBox=\"0 0 24 24\"\n",
              "       width=\"24px\">\n",
              "    <path d=\"M0 0h24v24H0V0z\" fill=\"none\"/>\n",
              "    <path d=\"M18.56 5.44l.94 2.06.94-2.06 2.06-.94-2.06-.94-.94-2.06-.94 2.06-2.06.94zm-11 1L8.5 8.5l.94-2.06 2.06-.94-2.06-.94L8.5 2.5l-.94 2.06-2.06.94zm10 10l.94 2.06.94-2.06 2.06-.94-2.06-.94-.94-2.06-.94 2.06-2.06.94z\"/><path d=\"M17.41 7.96l-1.37-1.37c-.4-.4-.92-.59-1.43-.59-.52 0-1.04.2-1.43.59L10.3 9.45l-7.72 7.72c-.78.78-.78 2.05 0 2.83L4 21.41c.39.39.9.59 1.41.59.51 0 1.02-.2 1.41-.59l7.78-7.78 2.81-2.81c.8-.78.8-2.07 0-2.86zM5.41 20L4 18.59l7.72-7.72 1.47 1.35L5.41 20z\"/>\n",
              "  </svg>\n",
              "      </button>\n",
              "      \n",
              "  <style>\n",
              "    .colab-df-container {\n",
              "      display:flex;\n",
              "      flex-wrap:wrap;\n",
              "      gap: 12px;\n",
              "    }\n",
              "\n",
              "    .colab-df-convert {\n",
              "      background-color: #E8F0FE;\n",
              "      border: none;\n",
              "      border-radius: 50%;\n",
              "      cursor: pointer;\n",
              "      display: none;\n",
              "      fill: #1967D2;\n",
              "      height: 32px;\n",
              "      padding: 0 0 0 0;\n",
              "      width: 32px;\n",
              "    }\n",
              "\n",
              "    .colab-df-convert:hover {\n",
              "      background-color: #E2EBFA;\n",
              "      box-shadow: 0px 1px 2px rgba(60, 64, 67, 0.3), 0px 1px 3px 1px rgba(60, 64, 67, 0.15);\n",
              "      fill: #174EA6;\n",
              "    }\n",
              "\n",
              "    [theme=dark] .colab-df-convert {\n",
              "      background-color: #3B4455;\n",
              "      fill: #D2E3FC;\n",
              "    }\n",
              "\n",
              "    [theme=dark] .colab-df-convert:hover {\n",
              "      background-color: #434B5C;\n",
              "      box-shadow: 0px 1px 3px 1px rgba(0, 0, 0, 0.15);\n",
              "      filter: drop-shadow(0px 1px 2px rgba(0, 0, 0, 0.3));\n",
              "      fill: #FFFFFF;\n",
              "    }\n",
              "  </style>\n",
              "\n",
              "      <script>\n",
              "        const buttonEl =\n",
              "          document.querySelector('#df-b4c2cbab-4ed9-47d9-bcc3-c72a23d24fb0 button.colab-df-convert');\n",
              "        buttonEl.style.display =\n",
              "          google.colab.kernel.accessAllowed ? 'block' : 'none';\n",
              "\n",
              "        async function convertToInteractive(key) {\n",
              "          const element = document.querySelector('#df-b4c2cbab-4ed9-47d9-bcc3-c72a23d24fb0');\n",
              "          const dataTable =\n",
              "            await google.colab.kernel.invokeFunction('convertToInteractive',\n",
              "                                                     [key], {});\n",
              "          if (!dataTable) return;\n",
              "\n",
              "          const docLinkHtml = 'Like what you see? Visit the ' +\n",
              "            '<a target=\"_blank\" href=https://colab.research.google.com/notebooks/data_table.ipynb>data table notebook</a>'\n",
              "            + ' to learn more about interactive tables.';\n",
              "          element.innerHTML = '';\n",
              "          dataTable['output_type'] = 'display_data';\n",
              "          await google.colab.output.renderOutput(dataTable, element);\n",
              "          const docLink = document.createElement('div');\n",
              "          docLink.innerHTML = docLinkHtml;\n",
              "          element.appendChild(docLink);\n",
              "        }\n",
              "      </script>\n",
              "    </div>\n",
              "  </div>\n",
              "  "
            ]
          },
          "metadata": {},
          "execution_count": 129
        }
      ]
    },
    {
      "cell_type": "code",
      "source": [
        "# -- Let's find out where the outliers are located\n",
        "# -- group our shoe data by shop_id and sum order_amount in that shop\n",
        "grouped = data.groupby(\"shop_id\").sum().reset_index()\n",
        "grouped.sort_values('order_amount', ascending=False)"
      ],
      "metadata": {
        "colab": {
          "base_uri": "https://localhost:8080/",
          "height": 424
        },
        "id": "Vh2aS0kg_SQA",
        "outputId": "b029416f-4312-4fe9-b525-638d8b1ac68f"
      },
      "execution_count": 130,
      "outputs": [
        {
          "output_type": "execute_result",
          "data": {
            "text/plain": [
              "    shop_id  order_id  user_id  order_amount  total_items\n",
              "41     42.0  124538.0  38688.0    11990176.0      34063.0\n",
              "77     78.0  122499.0  39916.0     2263800.0         88.0\n",
              "88     89.0  172859.0  50618.0       23128.0        118.0\n",
              "80     81.0  158452.0  49317.0       22656.0        128.0\n",
              "5       6.0  143483.0  49818.0       22627.0        121.0\n",
              "..      ...       ...      ...           ...          ...\n",
              "1       2.0  126448.0  47370.0        9588.0        102.0\n",
              "99    100.0   94261.0  34093.0        8547.0         77.0\n",
              "55     56.0   91134.0  31211.0        8073.0         69.0\n",
              "31     32.0   96561.0  35986.0        7979.0         79.0\n",
              "91     92.0  102864.0  36334.0        6840.0         76.0\n",
              "\n",
              "[100 rows x 5 columns]"
            ],
            "text/html": [
              "\n",
              "  <div id=\"df-984c4487-d3fc-4827-8a35-958a5fef04ac\">\n",
              "    <div class=\"colab-df-container\">\n",
              "      <div>\n",
              "<style scoped>\n",
              "    .dataframe tbody tr th:only-of-type {\n",
              "        vertical-align: middle;\n",
              "    }\n",
              "\n",
              "    .dataframe tbody tr th {\n",
              "        vertical-align: top;\n",
              "    }\n",
              "\n",
              "    .dataframe thead th {\n",
              "        text-align: right;\n",
              "    }\n",
              "</style>\n",
              "<table border=\"1\" class=\"dataframe\">\n",
              "  <thead>\n",
              "    <tr style=\"text-align: right;\">\n",
              "      <th></th>\n",
              "      <th>shop_id</th>\n",
              "      <th>order_id</th>\n",
              "      <th>user_id</th>\n",
              "      <th>order_amount</th>\n",
              "      <th>total_items</th>\n",
              "    </tr>\n",
              "  </thead>\n",
              "  <tbody>\n",
              "    <tr>\n",
              "      <th>41</th>\n",
              "      <td>42.0</td>\n",
              "      <td>124538.0</td>\n",
              "      <td>38688.0</td>\n",
              "      <td>11990176.0</td>\n",
              "      <td>34063.0</td>\n",
              "    </tr>\n",
              "    <tr>\n",
              "      <th>77</th>\n",
              "      <td>78.0</td>\n",
              "      <td>122499.0</td>\n",
              "      <td>39916.0</td>\n",
              "      <td>2263800.0</td>\n",
              "      <td>88.0</td>\n",
              "    </tr>\n",
              "    <tr>\n",
              "      <th>88</th>\n",
              "      <td>89.0</td>\n",
              "      <td>172859.0</td>\n",
              "      <td>50618.0</td>\n",
              "      <td>23128.0</td>\n",
              "      <td>118.0</td>\n",
              "    </tr>\n",
              "    <tr>\n",
              "      <th>80</th>\n",
              "      <td>81.0</td>\n",
              "      <td>158452.0</td>\n",
              "      <td>49317.0</td>\n",
              "      <td>22656.0</td>\n",
              "      <td>128.0</td>\n",
              "    </tr>\n",
              "    <tr>\n",
              "      <th>5</th>\n",
              "      <td>6.0</td>\n",
              "      <td>143483.0</td>\n",
              "      <td>49818.0</td>\n",
              "      <td>22627.0</td>\n",
              "      <td>121.0</td>\n",
              "    </tr>\n",
              "    <tr>\n",
              "      <th>...</th>\n",
              "      <td>...</td>\n",
              "      <td>...</td>\n",
              "      <td>...</td>\n",
              "      <td>...</td>\n",
              "      <td>...</td>\n",
              "    </tr>\n",
              "    <tr>\n",
              "      <th>1</th>\n",
              "      <td>2.0</td>\n",
              "      <td>126448.0</td>\n",
              "      <td>47370.0</td>\n",
              "      <td>9588.0</td>\n",
              "      <td>102.0</td>\n",
              "    </tr>\n",
              "    <tr>\n",
              "      <th>99</th>\n",
              "      <td>100.0</td>\n",
              "      <td>94261.0</td>\n",
              "      <td>34093.0</td>\n",
              "      <td>8547.0</td>\n",
              "      <td>77.0</td>\n",
              "    </tr>\n",
              "    <tr>\n",
              "      <th>55</th>\n",
              "      <td>56.0</td>\n",
              "      <td>91134.0</td>\n",
              "      <td>31211.0</td>\n",
              "      <td>8073.0</td>\n",
              "      <td>69.0</td>\n",
              "    </tr>\n",
              "    <tr>\n",
              "      <th>31</th>\n",
              "      <td>32.0</td>\n",
              "      <td>96561.0</td>\n",
              "      <td>35986.0</td>\n",
              "      <td>7979.0</td>\n",
              "      <td>79.0</td>\n",
              "    </tr>\n",
              "    <tr>\n",
              "      <th>91</th>\n",
              "      <td>92.0</td>\n",
              "      <td>102864.0</td>\n",
              "      <td>36334.0</td>\n",
              "      <td>6840.0</td>\n",
              "      <td>76.0</td>\n",
              "    </tr>\n",
              "  </tbody>\n",
              "</table>\n",
              "<p>100 rows × 5 columns</p>\n",
              "</div>\n",
              "      <button class=\"colab-df-convert\" onclick=\"convertToInteractive('df-984c4487-d3fc-4827-8a35-958a5fef04ac')\"\n",
              "              title=\"Convert this dataframe to an interactive table.\"\n",
              "              style=\"display:none;\">\n",
              "        \n",
              "  <svg xmlns=\"http://www.w3.org/2000/svg\" height=\"24px\"viewBox=\"0 0 24 24\"\n",
              "       width=\"24px\">\n",
              "    <path d=\"M0 0h24v24H0V0z\" fill=\"none\"/>\n",
              "    <path d=\"M18.56 5.44l.94 2.06.94-2.06 2.06-.94-2.06-.94-.94-2.06-.94 2.06-2.06.94zm-11 1L8.5 8.5l.94-2.06 2.06-.94-2.06-.94L8.5 2.5l-.94 2.06-2.06.94zm10 10l.94 2.06.94-2.06 2.06-.94-2.06-.94-.94-2.06-.94 2.06-2.06.94z\"/><path d=\"M17.41 7.96l-1.37-1.37c-.4-.4-.92-.59-1.43-.59-.52 0-1.04.2-1.43.59L10.3 9.45l-7.72 7.72c-.78.78-.78 2.05 0 2.83L4 21.41c.39.39.9.59 1.41.59.51 0 1.02-.2 1.41-.59l7.78-7.78 2.81-2.81c.8-.78.8-2.07 0-2.86zM5.41 20L4 18.59l7.72-7.72 1.47 1.35L5.41 20z\"/>\n",
              "  </svg>\n",
              "      </button>\n",
              "      \n",
              "  <style>\n",
              "    .colab-df-container {\n",
              "      display:flex;\n",
              "      flex-wrap:wrap;\n",
              "      gap: 12px;\n",
              "    }\n",
              "\n",
              "    .colab-df-convert {\n",
              "      background-color: #E8F0FE;\n",
              "      border: none;\n",
              "      border-radius: 50%;\n",
              "      cursor: pointer;\n",
              "      display: none;\n",
              "      fill: #1967D2;\n",
              "      height: 32px;\n",
              "      padding: 0 0 0 0;\n",
              "      width: 32px;\n",
              "    }\n",
              "\n",
              "    .colab-df-convert:hover {\n",
              "      background-color: #E2EBFA;\n",
              "      box-shadow: 0px 1px 2px rgba(60, 64, 67, 0.3), 0px 1px 3px 1px rgba(60, 64, 67, 0.15);\n",
              "      fill: #174EA6;\n",
              "    }\n",
              "\n",
              "    [theme=dark] .colab-df-convert {\n",
              "      background-color: #3B4455;\n",
              "      fill: #D2E3FC;\n",
              "    }\n",
              "\n",
              "    [theme=dark] .colab-df-convert:hover {\n",
              "      background-color: #434B5C;\n",
              "      box-shadow: 0px 1px 3px 1px rgba(0, 0, 0, 0.15);\n",
              "      filter: drop-shadow(0px 1px 2px rgba(0, 0, 0, 0.3));\n",
              "      fill: #FFFFFF;\n",
              "    }\n",
              "  </style>\n",
              "\n",
              "      <script>\n",
              "        const buttonEl =\n",
              "          document.querySelector('#df-984c4487-d3fc-4827-8a35-958a5fef04ac button.colab-df-convert');\n",
              "        buttonEl.style.display =\n",
              "          google.colab.kernel.accessAllowed ? 'block' : 'none';\n",
              "\n",
              "        async function convertToInteractive(key) {\n",
              "          const element = document.querySelector('#df-984c4487-d3fc-4827-8a35-958a5fef04ac');\n",
              "          const dataTable =\n",
              "            await google.colab.kernel.invokeFunction('convertToInteractive',\n",
              "                                                     [key], {});\n",
              "          if (!dataTable) return;\n",
              "\n",
              "          const docLinkHtml = 'Like what you see? Visit the ' +\n",
              "            '<a target=\"_blank\" href=https://colab.research.google.com/notebooks/data_table.ipynb>data table notebook</a>'\n",
              "            + ' to learn more about interactive tables.';\n",
              "          element.innerHTML = '';\n",
              "          dataTable['output_type'] = 'display_data';\n",
              "          await google.colab.output.renderOutput(dataTable, element);\n",
              "          const docLink = document.createElement('div');\n",
              "          docLink.innerHTML = docLinkHtml;\n",
              "          element.appendChild(docLink);\n",
              "        }\n",
              "      </script>\n",
              "    </div>\n",
              "  </div>\n",
              "  "
            ]
          },
          "metadata": {},
          "execution_count": 130
        }
      ]
    },
    {
      "cell_type": "code",
      "source": [
        "plt.hist(grouped[\"order_amount\"])\n",
        "plt.title(\"sum of total amount for each shop\")\n",
        "plt.show()"
      ],
      "metadata": {
        "colab": {
          "base_uri": "https://localhost:8080/",
          "height": 294
        },
        "id": "ozjilHuRHGbp",
        "outputId": "0791fb3f-faec-49ab-8dfd-4db6df2bf515"
      },
      "execution_count": 126,
      "outputs": [
        {
          "output_type": "display_data",
          "data": {
            "text/plain": [
              "<Figure size 432x288 with 1 Axes>"
            ],
            "image/png": "[encoded data removed]"
          },
          "metadata": {
            "needs_background": "light"
          }
        }
      ]
    },
    {
      "cell_type": "markdown",
      "source": [
        "**a1. what could be going wrong with our calculation?**"
      ],
      "metadata": {
        "id": "t5h3NecQPNDR"
      }
    },
    {
      "cell_type": "markdown",
      "source": [
        "The statistical table shows that the AOV was obtained by taking the average of \"order_amount\" column. Usually, mean value is sensitive to extreme obervation. The AOV of 3145.13 is skewed due to **ourliers**. From the sumed total amount table and histogram, we can find that shop 42 and shop 78 have the extrem values that skew our data.\n",
        "\n",
        "Also, the standard deviation is too large (41283.54), \n",
        "which leads to values that are further away from the mean. Therefore, using the mean value to estimate the AOV is not a good way. "
      ],
      "metadata": {
        "id": "KT_Q2dMSPO2J"
      }
    },
    {
      "cell_type": "markdown",
      "source": [
        "**a2. Think about a better way to evaluate this data**"
      ],
      "metadata": {
        "id": "tNQCCbY5VU_h"
      }
    },
    {
      "cell_type": "markdown",
      "source": [
        "A better way to evaluate this data is to use the **median** as the AOV. \n",
        "Here are the reasons:\n",
        "1. All of the data in our dataset is meaningful. Each row represents an order in a shop. We cannot just drop outliers, which will bring bias.\n",
        "2. Compared to the mean value, the median value is a central value and the outliers do not skew the median as much as the mean.\n",
        "\n",
        "\n"
      ],
      "metadata": {
        "id": "eB4zh5h8Uetw"
      }
    },
    {
      "cell_type": "markdown",
      "source": [
        "**b. What metric would you report for this dataset?**\n",
        "\n",
        "Meidan Order Value"
      ],
      "metadata": {
        "id": "HkUbHua8bFRM"
      }
    },
    {
      "cell_type": "markdown",
      "source": [
        "**c. What is its value?**\n",
        "\n",
        "284.0"
      ],
      "metadata": {
        "id": "My3TeZj9bSPr"
      }
    },
    {
      "cell_type": "code",
      "source": [
        "data[\"order_amount\"].median()"
      ],
      "metadata": {
        "colab": {
          "base_uri": "https://localhost:8080/"
        },
        "id": "CdbO4_TCbASL",
        "outputId": "064166b5-798f-4cbb-d662-49b4fd585faf"
      },
      "execution_count": 128,
      "outputs": [
        {
          "output_type": "execute_result",
          "data": {
            "text/plain": [
              "284.0"
            ]
          },
          "metadata": {},
          "execution_count": 128
        }
      ]
    },
    {
      "cell_type": "code",
      "source": [
        ""
      ],
      "metadata": {
        "id": "4cTd2ZOtHa8C"
      },
      "execution_count": null,
      "outputs": []
    },
    {
      "cell_type": "markdown",
      "source": [
        "# Question 2"
      ],
      "metadata": {
        "id": "OcnjSDs1lMWf"
      }
    },
    {
      "cell_type": "markdown",
      "source": [
        " **a. How many orders were shipped by Speedy Express in total?**\n"
      ],
      "metadata": {
        "id": "9nLJaLz1c2kr"
      }
    },
    {
      "cell_type": "markdown",
      "source": [
        "\n",
        "```\n",
        "SELECT COUNT(*) FROM Orders\n",
        "JOIN Shippers ON Shippers.ShipperID = Orders.ShipperID\n",
        "WHERE Shippers.ShipperName = 'Speedy Express';\n",
        "```\n",
        "I join the orders table with shippers tabler according to same shipperID. Then ***I count the number of order shipped by Speedy Express, which is 54.***"
      ],
      "metadata": {
        "id": "2qlocqvpfe5u"
      }
    },
    {
      "cell_type": "markdown",
      "source": [
        "**b. What is the last name of the employee with the most orders?**"
      ],
      "metadata": {
        "id": "2T23oIVyfz3a"
      }
    },
    {
      "cell_type": "markdown",
      "source": [
        "\n",
        "\n",
        "```\n",
        "SELECT Employees.LastName, Count() AS orders_num \n",
        "FROM Orders\n",
        "JOIN Employees ON Orders.EmployeeID = Employees.EmployeeID\n",
        "GROUP BY Employees.LastName \n",
        "ORDER BY orders_num DESC;\n",
        "```\n",
        "\n"
      ],
      "metadata": {
        "id": "VKNtf8g7f5zV"
      }
    },
    {
      "cell_type": "markdown",
      "source": [
        "I join the orders table with employee table first. Then, I group by employee's last name and return the results according to the order number(descending). ***Finally, employee with last name Peacock has the most orders 40.***"
      ],
      "metadata": {
        "id": "raZV55VKgPx2"
      }
    },
    {
      "cell_type": "markdown",
      "source": [
        "**c. What product was ordered the most by customers in Germany?**\n"
      ],
      "metadata": {
        "id": "6JHlEBdDjnFV"
      }
    },
    {
      "cell_type": "markdown",
      "source": [
        "\n",
        "\n",
        "```\n",
        "SELECT Products.ProductName, Sum(OrderDetails.Quantity) as most_ordered FROM Orders\n",
        "JOIN OrderDetails ON Orders.OrderID = OrderDetails.OrderID\n",
        "JOIN Customers ON Orders.CustomerID = Customers.CustomerID\n",
        "JOIN Products ON OrderDetails.ProductID = Products.ProductID\n",
        "WHERE Country = 'Germany'\n",
        "GROUP BY Products.ProductName ORDER BY most_ordered DESC;\n",
        "```\n",
        "\n"
      ],
      "metadata": {
        "id": "1IdW4p8cjwcn"
      }
    },
    {
      "cell_type": "markdown",
      "source": [
        "I join four tables: orders, orderdetails, customers, and products according to order id, customer id, and product id. Then, I sum the order quantities for products ordered by customers in Germany. ***I find that Boston Crab Mear was ordered the most (160 orders) by German customers.***"
      ],
      "metadata": {
        "id": "MZ8vgQU3kNe4"
      }
    }
  ]
}